{
 "cells": [
  {
   "cell_type": "code",
   "execution_count": 2,
   "metadata": {},
   "outputs": [
    {
     "name": "stdout",
     "output_type": "stream",
     "text": [
      "(1.00202, -1)\n"
     ]
    }
   ],
   "source": [
    "import MetaTrader5 as meta\n",
    "import pandas as pd\n",
    "from Functions import price_data_frame,\\\n",
    "                    horizontal_line_values,\\\n",
    "                    store_levels, plotter,\\\n",
    "                    horizontal_line_position\n",
    "\n",
    "TOTAL_BARS = 1000\n",
    "symbol = 'EURUSDm'\n",
    "df = price_data_frame(symbol, meta.TIMEFRAME_M1, TOTAL_BARS)\n",
    "levels, output, difference, market_position= ([] for i in range(4))\n",
    "tuner = .001\n",
    "store_levels(df, levels, tuner)\n",
    "df['time'] = pd.to_datetime(df['time'], unit='s')\n",
    "horizontal_line_values(levels, output)\n",
    "print(horizontal_line_position(TOTAL_BARS, output, df,difference, market_position))\n",
    "\n",
    "# Now I have to detect market direction according to stochastic, horizontal_line and EMAs"
   ]
  }
 ],
 "metadata": {
  "kernelspec": {
   "display_name": "Python 3.10.5 64-bit",
   "language": "python",
   "name": "python3"
  },
  "language_info": {
   "codemirror_mode": {
    "name": "ipython",
    "version": 3
   },
   "file_extension": ".py",
   "mimetype": "text/x-python",
   "name": "python",
   "nbconvert_exporter": "python",
   "pygments_lexer": "ipython3",
   "version": "3.10.5"
  },
  "orig_nbformat": 4,
  "vscode": {
   "interpreter": {
    "hash": "5c13f21ad702923f6646484401357e5568f852832630a21a1510b67e4fb48f7e"
   }
  }
 },
 "nbformat": 4,
 "nbformat_minor": 2
}
