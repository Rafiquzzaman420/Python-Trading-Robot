{
 "cells": [
  {
   "cell_type": "code",
   "execution_count": null,
   "metadata": {},
   "outputs": [],
   "source": [
    "import MetaTrader5 as meta\n",
    "import pandas as pd\n",
    "from datetime import datetime\n",
    "from Functions import plotter, price_data_frame,\\\n",
    "                    horizontal_line_values,\\\n",
    "                    store_levels,\\\n",
    "                    horizontal_line_position,\\\n",
    "                        stochastic_indicator,\\\n",
    "                        exponential_moving_average\n",
    "\n",
    "total_bars = 1000\n",
    "symbol = 'EURUSDm'\n",
    "df = price_data_frame(symbol, meta.TIMEFRAME_M1, total_bars)\n",
    "levels, output, difference, hline_position= ([] for i in range(4))\n",
    "tuner = .001\n",
    "store_levels(df, levels, tuner)\n",
    "## plotter(levels, df)\n",
    "# df['time'] = pd.to_datetime(df['time'], unit='s')\n",
    "output = horizontal_line_values(levels)\n",
    "stochastic_indicator(df, 21, 5, 7)\n",
    "exponential_moving_average(df)\n",
    "\n",
    "k_value, d_value, stick_value, fast_value, slow_value, time_value = ([] for i in range(6))\n",
    "\n",
    "for i in reversed(range(total_bars)):\n",
    "    current_stick = df.at[i, 'close']\n",
    "    stoch_k_value = df.at[i, '%K']\n",
    "    stoch_d_value = df.at[i, '%D']\n",
    "    fast_ema = df.at[i, 'Fast_EMA']\n",
    "    slow_ema = df.at[i, 'Slow_EMA']\n",
    "    current_time = df.at[i, 'time']\n",
    "\n",
    "    stick_value.append(current_stick)\n",
    "    k_value.append(stoch_k_value)\n",
    "    d_value.append(stoch_d_value)\n",
    "    fast_value.append(fast_ema)\n",
    "    slow_value.append(slow_ema)\n",
    "    time_value.append(current_time)\n",
    "\n",
    "current_time_value = [0]\n",
    "position_number = 0\n",
    "# This code doesn't work properly. Need to change it!\n",
    "for i in range(total_bars):\n",
    "    # if abs(current_time_value[-1] - time_value[i]) > 1250:\n",
    "        if slow_value[i] < fast_value[i]:\n",
    "            if k_value[i + 1] < d_value[i + 1] and k_value[i] > d_value[i] and (k_value[i] <= 35 or k_value[i] >= 75):\n",
    "                v = horizontal_line_position(total_bars - i, output, df, hline_position)\n",
    "                current_utc_time = datetime.utcfromtimestamp(time_value[i]).strftime('%Y-%m-%d %H:%M:%S')\n",
    "                print('BUY  --> {0} {1}: {2}'.format(k_value[i], d_value[i], current_utc_time))\n",
    "                current_time_value.append(time_value[i])\n",
    "                position_number += 1\n",
    "\n",
    "        if slow_value[i] > fast_value[i]:\n",
    "            if  k_value[i + 1] > d_value[i + 1] and k_value[i] < d_value[i] and (k_value[i] >= 65 or k_value[i] <= 35):\n",
    "                v = horizontal_line_position(total_bars - i, output, df, hline_position)\n",
    "                current_utc_time = datetime.utcfromtimestamp(time_value[i]).strftime('%Y-%m-%d %H:%M:%S')\n",
    "                print('SELL --> {0} {1}: {2}'.format(k_value[i], d_value[i], current_utc_time))\n",
    "                current_time_value.append(time_value[i])\n",
    "                position_number += 1"
   ]
  },
  {
   "cell_type": "code",
   "execution_count": 24,
   "metadata": {},
   "outputs": [
    {
     "name": "stdout",
     "output_type": "stream",
     "text": [
      "(0.99759, 1, 0.9993)\n"
     ]
    },
    {
     "data": {
      "text/plain": [
       "[(10, 1.00037), (239, 1.00211), (612, 0.99899), (654, 0.99759)]"
      ]
     },
     "execution_count": 24,
     "metadata": {},
     "output_type": "execute_result"
    }
   ],
   "source": [
    "v = horizontal_line_position(total_bars - 1, output, df, hline_position)\n",
    "print(v)\n",
    "levels\n",
    "# Perfectly working HAH!\n"
   ]
  }
 ],
 "metadata": {
  "kernelspec": {
   "display_name": "Python 3.10.5 64-bit",
   "language": "python",
   "name": "python3"
  },
  "language_info": {
   "codemirror_mode": {
    "name": "ipython",
    "version": 3
   },
   "file_extension": ".py",
   "mimetype": "text/x-python",
   "name": "python",
   "nbconvert_exporter": "python",
   "pygments_lexer": "ipython3",
   "version": "3.10.5"
  },
  "orig_nbformat": 4,
  "vscode": {
   "interpreter": {
    "hash": "5c13f21ad702923f6646484401357e5568f852832630a21a1510b67e4fb48f7e"
   }
  }
 },
 "nbformat": 4,
 "nbformat_minor": 2
}
