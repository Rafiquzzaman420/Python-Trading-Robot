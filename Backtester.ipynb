{
 "cells": [
  {
   "cell_type": "code",
   "execution_count": 2,
   "metadata": {},
   "outputs": [
    {
     "name": "stdout",
     "output_type": "stream",
     "text": [
      "BUY  --> 13.119947346028521 12.16055407429769: 2022-09-19 11:34:00\n",
      "BUY  --> 85.75537456893741 84.70815573743332: 2022-09-19 10:44:00\n",
      "SELL --> 71.92207792208168 72.65670447696263: 2022-09-19 10:09:00\n",
      "SELL --> 66.26646130150233 69.92663778297386: 2022-09-19 09:43:00\n",
      "SELL --> 31.623435281973723 33.84102347517255: 2022-09-19 09:01:00\n",
      "SELL --> 31.877231470730088 34.2668798307442: 2022-09-19 08:58:00\n",
      "SELL --> 73.41105863833162 74.7882723337275: 2022-09-19 08:34:00\n",
      "SELL --> 65.83297475616719 69.61790500829336: 2022-09-19 08:15:00\n",
      "SELL --> 67.7536625067824 73.03794464068733: 2022-09-19 07:50:00\n",
      "SELL --> 72.3201064386465 74.53917535118754: 2022-09-19 07:38:00\n",
      "SELL --> 80.69946419347325 83.13924373644087: 2022-09-19 07:25:00\n",
      "SELL --> 77.25751301838103 80.74956187849958: 2022-09-19 06:30:00\n",
      "SELL --> 23.767142974462363 25.765875948806716: 2022-09-19 06:18:00\n",
      "SELL --> 26.274307702883444 27.486428915004772: 2022-09-19 05:15:00\n",
      "SELL --> 66.12244897958821 73.87755102041179: 2022-09-19 04:25:00\n",
      "SELL --> 92.8901030941815 95.96082066489927: 2022-09-19 04:07:00\n",
      "SELL --> 25.287356321840274 30.62872199401125: 2022-09-19 03:43:00\n",
      "SELL --> 13.726141726142476 15.262192335879089: 2022-09-19 03:31:00\n",
      "SELL --> 87.42948105868152 90.4925777148982: 2022-09-19 03:02:00\n",
      "SELL --> 7.523480040681795 7.602810108573574: 2022-09-19 02:26:00\n",
      "SELL --> 7.764740962645449 9.204204413670514: 2022-09-19 02:17:00\n",
      "SELL --> 70.63775510202655 72.4438775510101: 2022-09-19 01:49:00\n",
      "SELL --> 25.919398062264 27.310463579380514: 2022-09-19 01:25:00\n",
      "SELL --> 67.30992584650863 69.34375813764342: 2022-09-19 01:13:00\n",
      "SELL --> 15.873015873001327 17.71554834053446: 2022-09-19 01:03:00\n",
      "SELL --> 22.932339356622396 25.567855011856814: 2022-09-19 00:48:00\n",
      "SELL --> 15.695757059972617 16.198112859816558: 2022-09-19 00:39:00\n",
      "SELL --> 8.8516409159387 9.878692002548823: 2022-09-19 00:33:00\n",
      "SELL --> 9.79136951163793 9.972809640360989: 2022-09-19 00:31:00\n",
      "SELL --> 8.446622126517756 9.554441990573796: 2022-09-19 00:29:00\n",
      "BUY  --> 7.83284539838393 7.707563497093349: 2022-09-19 00:25:00\n",
      "BUY  --> 34.20168067226931 26.565728045607035: 2022-09-19 00:01:00\n",
      "BUY  --> 18.02083333332221 15.827212703250666: 2022-09-18 23:23:00\n",
      "BUY  --> 95.33773404740465 94.58670652218116: 2022-09-18 22:56:00\n",
      "BUY  --> 94.7004608294845 94.70046082948245: 2022-09-18 22:54:00\n",
      "SELL --> 81.55279503105432 83.50105027236513: 2022-09-18 22:30:00\n",
      "BUY  --> 18.873386675258974 17.815930199846434: 2022-09-18 21:38:00\n",
      "BUY  --> 12.32492997199465 10.75630252101521: 2022-09-18 21:20:00\n",
      "BUY  --> 76.7080745341558 72.1739130434695: 2022-09-16 20:49:00\n",
      "BUY  --> 6.000698729098394 5.155109116762121: 2022-09-16 20:28:00\n",
      "BUY  --> 87.03803197779845 86.92426090253112: 2022-09-16 20:01:00\n",
      "BUY  --> 83.17439070865301 80.54907082305833: 2022-09-16 19:55:00\n",
      "BUY  --> 81.44073623527079 81.38402948580367: 2022-09-16 19:52:00\n",
      "BUY  --> 34.088827838829154 32.68514700310154: 2022-09-16 19:35:00\n"
     ]
    }
   ],
   "source": [
    "import MetaTrader5 as meta\n",
    "import pandas as pd\n",
    "from datetime import datetime\n",
    "from Functions import plotter, price_data_frame,\\\n",
    "                    horizontal_line_values,\\\n",
    "                    store_levels,\\\n",
    "                    horizontal_line_position,\\\n",
    "                        stochastic_indicator,\\\n",
    "                        exponential_moving_average\n",
    "\n",
    "total_bars = 1000\n",
    "symbol = 'EURUSDm'\n",
    "df = price_data_frame(symbol, meta.TIMEFRAME_M1, total_bars)\n",
    "levels, output, difference, hline_position= ([] for i in range(4))\n",
    "tuner = .001\n",
    "store_levels(df, levels, tuner)\n",
    "## plotter(levels, df)\n",
    "# df['time'] = pd.to_datetime(df['time'], unit='s')\n",
    "output = horizontal_line_values(levels)\n",
    "stochastic_indicator(df, 21, 5, 7)\n",
    "exponential_moving_average(df)\n",
    "\n",
    "k_value, d_value, stick_value, fast_value, slow_value, time_value = ([] for i in range(6))\n",
    "\n",
    "for i in reversed(range(total_bars)):\n",
    "    current_stick = df.at[i, 'close']\n",
    "    stoch_k_value = df.at[i, '%K']\n",
    "    stoch_d_value = df.at[i, '%D']\n",
    "    fast_ema = df.at[i, 'Fast_EMA']\n",
    "    slow_ema = df.at[i, 'Slow_EMA']\n",
    "    current_time = df.at[i, 'time']\n",
    "\n",
    "    stick_value.append(current_stick)\n",
    "    k_value.append(stoch_k_value)\n",
    "    d_value.append(stoch_d_value)\n",
    "    fast_value.append(fast_ema)\n",
    "    slow_value.append(slow_ema)\n",
    "    time_value.append(current_time)\n",
    "\n",
    "current_time_value = [0]\n",
    "# This code doesn't work properly. Need to change it!\n",
    "for i in range(total_bars):\n",
    "    # if abs(current_time_value[-1] - time_value[i]) > 1250:\n",
    "        if slow_value[i] < fast_value[i]:\n",
    "            if k_value[i + 1] < d_value[i + 1] and k_value[i] > d_value[i] and (k_value[i] <= 35 or k_value[i] >= 75):\n",
    "                v = horizontal_line_position(total_bars - i, output, df, hline_position)\n",
    "                current_utc_time = datetime.utcfromtimestamp(time_value[i]).strftime('%Y-%m-%d %H:%M:%S')\n",
    "                print('BUY  --> {0} {1}: {2}'.format(k_value[i], d_value[i], current_utc_time))\n",
    "                current_time_value.append(time_value[i])\n",
    "\n",
    "        if slow_value[i] > fast_value[i]:\n",
    "            if  k_value[i + 1] > d_value[i + 1] and k_value[i] < d_value[i] and (k_value[i] >= 65 or k_value[i] <= 35):\n",
    "                v = horizontal_line_position(total_bars - i, output, df, hline_position)\n",
    "                current_utc_time = datetime.utcfromtimestamp(time_value[i]).strftime('%Y-%m-%d %H:%M:%S')\n",
    "                print('SELL --> {0} {1}: {2}'.format(k_value[i], d_value[i], current_utc_time))\n",
    "                current_time_value.append(time_value[i])"
   ]
  },
  {
   "cell_type": "code",
   "execution_count": 24,
   "metadata": {},
   "outputs": [
    {
     "name": "stdout",
     "output_type": "stream",
     "text": [
      "(0.99759, 1, 0.9993)\n"
     ]
    },
    {
     "data": {
      "text/plain": [
       "[(10, 1.00037), (239, 1.00211), (612, 0.99899), (654, 0.99759)]"
      ]
     },
     "execution_count": 24,
     "metadata": {},
     "output_type": "execute_result"
    }
   ],
   "source": [
    "v = horizontal_line_position(total_bars - 1, output, df, hline_position)\n",
    "print(v)\n",
    "levels\n",
    "# Perfectly working HAH!\n"
   ]
  }
 ],
 "metadata": {
  "kernelspec": {
   "display_name": "Python 3.10.5 64-bit",
   "language": "python",
   "name": "python3"
  },
  "language_info": {
   "codemirror_mode": {
    "name": "ipython",
    "version": 3
   },
   "file_extension": ".py",
   "mimetype": "text/x-python",
   "name": "python",
   "nbconvert_exporter": "python",
   "pygments_lexer": "ipython3",
   "version": "3.10.5"
  },
  "orig_nbformat": 4,
  "vscode": {
   "interpreter": {
    "hash": "5c13f21ad702923f6646484401357e5568f852832630a21a1510b67e4fb48f7e"
   }
  }
 },
 "nbformat": 4,
 "nbformat_minor": 2
}
