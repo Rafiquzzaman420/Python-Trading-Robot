{
 "cells": [
  {
   "cell_type": "code",
   "execution_count": 1,
   "metadata": {},
   "outputs": [],
   "source": [
    "from time import sleep\n",
    "from matplotlib import pyplot as plt\n",
    "from Functions import filter_stochastic_crossover, filter_stochastic_indicator, price_data_frame, stochastic_crossover, \\\n",
    "    stochastic_indicator, time_converter, speaker\n",
    "import MetaTrader5 as meta\n",
    "from ta.trend import macd, macd_signal\n",
    "\n",
    "while True:\n",
    "    bars = 1440\n",
    "    symbol = 'EURUSD'\n",
    "    data = price_data_frame(symbol, meta.TIMEFRAME_M1, bars)\n",
    "    filter_signal = filter_stochastic_crossover(data, bars)\n",
    "    stoch_signal = stochastic_crossover(data, bars)\n",
    "    time_difference = int(abs(filter_signal[0][1] - stoch_signal[0][1]) / 60)\n",
    "\n",
    "    if filter_signal[0][0] == 'buy' and stoch_signal[0][0] == 'buy' and time_difference<=4:\n",
    "            print('BUY   : {0}'.format(time_converter(stoch_signal[0][1])))\n",
    "            if time_difference <= 4:\n",
    "                speaker('Buy', 10)\n",
    "    if filter_signal[0][0] == 'sell' and stoch_signal[0][0] == 'sell' and time_difference<=4:\n",
    "            print('SELL  : {0}'.format(time_converter(stoch_signal[0][1])))\n",
    "            if time_difference <= 4:\n",
    "                speaker('Sell', 10)\n",
    "\n",
    "    print('=======================================')\n",
    "    print(\"Filter                    : \",filter_signal[0][0])\n",
    "    print(\"Stochastic                : \",stoch_signal[0][0])\n",
    "    print('Normal Signal difference  : ',time_difference,'minutes')\n",
    "    print('=======================================')\n",
    "    sleep(30)"
   ]
  }
 ],
 "metadata": {
  "kernelspec": {
   "display_name": "Python 3.10.5 64-bit",
   "language": "python",
   "name": "python3"
  },
  "language_info": {
   "codemirror_mode": {
    "name": "ipython",
    "version": 3
   },
   "file_extension": ".py",
   "mimetype": "text/x-python",
   "name": "python",
   "nbconvert_exporter": "python",
   "pygments_lexer": "ipython3",
   "version": "3.10.5"
  },
  "orig_nbformat": 4,
  "vscode": {
   "interpreter": {
    "hash": "5c13f21ad702923f6646484401357e5568f852832630a21a1510b67e4fb48f7e"
   }
  }
 },
 "nbformat": 4,
 "nbformat_minor": 2
}
